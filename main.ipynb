{
 "cells": [
  {
   "cell_type": "markdown",
   "metadata": {},
   "source": [
    "# 67373视频推荐系统"
   ]
  },
  {
   "cell_type": "code",
   "execution_count": 1,
   "metadata": {},
   "outputs": [],
   "source": [
    "from sklearn.feature_extraction.text import TfidfVectorizer\n",
    "from sklearn.neighbors import NearestNeighbors\n",
    "import pickle\n",
    "import os\n",
    "\n",
    "NUM_RECOMM_VIDEOS = 12 # 获取推荐视频的个数\n",
    "\n",
    "def save_model(fname, model):\n",
    "    os.makedirs('models', exist_ok=True)\n",
    "    path = f'models/{fname}.pkl'\n",
    "    with open(path, 'wb') as f:\n",
    "        pickle.dump(model, f)\n",
    "    print(f'Model [{fname}] has been saved to path: {path}')"
   ]
  },
  {
   "cell_type": "code",
   "execution_count": 2,
   "metadata": {},
   "outputs": [
    {
     "name": "stdout",
     "output_type": "stream",
     "text": [
      "Total: 1072\n"
     ]
    }
   ],
   "source": [
    "# 读取数据\n",
    "data = []\n",
    "with open('data/data.txt') as f:\n",
    "    for line in f.read().splitlines():\n",
    "        [title, cate_name, cate_id, duration, creation_time, video_id] = line.split(',')\n",
    "        data.append({\n",
    "            'title': title,\n",
    "            'cate_name': cate_name[3:],\n",
    "            'cate_id': cate_id,\n",
    "            'duration': duration,\n",
    "            'creation_time': creation_time,\n",
    "            'video_id': video_id,\n",
    "        })\n",
    "\n",
    "print(f'Total: {len(data)}')"
   ]
  },
  {
   "cell_type": "code",
   "execution_count": 3,
   "metadata": {},
   "outputs": [
    {
     "name": "stdout",
     "output_type": "stream",
     "text": [
      "Model [vectorizer] has been saved to path: models/vectorizer.pkl\n",
      "Model [knn] has been saved to path: models/knn.pkl\n"
     ]
    }
   ],
   "source": [
    "# 暂时只用title和cate_name\n",
    "corpus = [''.join([i['title'], i['cate_name']]) for i in data]\n",
    "\n",
    "# 向量化\n",
    "def tokenizer(s):\n",
    "    return list(s)\n",
    "\n",
    "vectorizer = TfidfVectorizer(tokenizer=tokenizer)\n",
    "X = vectorizer.fit_transform(corpus)\n",
    "\n",
    "# +1是因为包含了自身\n",
    "knn = NearestNeighbors(n_neighbors=NUM_RECOMM_VIDEOS+1)\n",
    "knn.fit(X)\n",
    "\n",
    "save_model('vectorizer', vectorizer)\n",
    "save_model('knn', knn)"
   ]
  },
  {
   "cell_type": "code",
   "execution_count": 4,
   "metadata": {},
   "outputs": [
    {
     "name": "stdout",
     "output_type": "stream",
     "text": [
      "([2022-03-02] 《艾尔登法环》（第一期）, 0.747)\n",
      "([2022-03-02] 《艾尔登法环》（第二期）, 0.650)\n",
      "([2022-03-30] 《艾尔登法环》（第六期）, 0.574)\n",
      "([2022-03-09] 《艾尔登法环》（第三期）, 0.562)\n",
      "([2022-04-06] 《艾尔登法环》（第七期）, 0.464)\n",
      "([2022-03-23] 《艾尔登法环》（第五期）高端女玩家, 0.397)\n",
      "([2022-04-13] 《艾尔登法环》（第八期）高端女玩家, 0.322)\n",
      "([2022-03-16] 《艾尔登法环》（第四期）平民女玩家vs碎星？, 0.234)\n",
      "([2022-03-05] HI, 0.180)\n",
      "([2022-04-20] 《艾尔登法环》（第九期）到底我先通关老头环还是小区先解封？, 0.165)\n",
      "([2021-06-23] 《生化危机：村庄》（第一期）, 0.159)\n",
      "([2022-05-04] 《艾尔登法环》（第十一期 · 上）女武神vs女武神好伐, 0.154)\n",
      "([2022-05-04] 《艾尔登法环》（第十一期 · 下）女武神vs女武神好伐, 0.153)\n"
     ]
    }
   ],
   "source": [
    "# 测试\n",
    "query = '[2022-03-02] 《艾尔登法环》（第一期）'\n",
    "query = vectorizer.transform([query])\n",
    "dist, nbrs = knn.kneighbors(query)\n",
    "\n",
    "for i, score in zip(nbrs[0], 1-dist[0]):\n",
    "    word = data[i]['title']\n",
    "    print(f'({word}, {score:.3f})')"
   ]
  },
  {
   "cell_type": "code",
   "execution_count": 5,
   "metadata": {
    "tags": []
   },
   "outputs": [],
   "source": [
    "# 将测试结果写入本地\n",
    "with open('test_results.txt', 'w') as f:\n",
    "    for i in range(0, 20):\n",
    "        title     = data[i]['title']\n",
    "        cate_name = data[i]['cate_name']\n",
    "        video_id  = data[i]['video_id']\n",
    "        f.write(f'测试数据: {title}\\n')\n",
    "        query = vectorizer.transform([''.join([title, cate_name])])\n",
    "        nbrs = knn.kneighbors(query, return_distance=False)\n",
    "        recomms = [(data[idx]['title'], data[idx]['video_id']) for idx in nbrs[0]]\n",
    "        # 根据video_id筛选掉当前的测试数据\n",
    "        recomms = list(filter(lambda v: v[1] != video_id, recomms))\n",
    "        if len(recomms) > NUM_RECOMM_VIDEOS:\n",
    "            recomms = recomms[:NUM_RECOMM_VIDEOS]\n",
    "        f.write(f'测试结果:\\n')\n",
    "        for t, _ in recomms:\n",
    "            f.write(f'{t}\\n')\n",
    "        f.write('\\n\\n')"
   ]
  }
 ],
 "metadata": {
  "kernelspec": {
   "display_name": "Python 3.8.13 ('main')",
   "language": "python",
   "name": "python3"
  },
  "language_info": {
   "codemirror_mode": {
    "name": "ipython",
    "version": 3
   },
   "file_extension": ".py",
   "mimetype": "text/x-python",
   "name": "python",
   "nbconvert_exporter": "python",
   "pygments_lexer": "ipython3",
   "version": "3.8.13"
  },
  "orig_nbformat": 4,
  "vscode": {
   "interpreter": {
    "hash": "72587157226cccc84712809976302198e430104df0a9455717420180e1c89efc"
   }
  }
 },
 "nbformat": 4,
 "nbformat_minor": 2
}
